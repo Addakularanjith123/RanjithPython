{
  "cells": [
    {
      "cell_type": "markdown",
      "metadata": {
        "id": "view-in-github",
        "colab_type": "text"
      },
      "source": [
        "<a href=\"https://colab.research.google.com/github/Addakularanjith123/RanjithPython/blob/master/Python.ipynb\" target=\"_parent\"><img src=\"https://colab.research.google.com/assets/colab-badge.svg\" alt=\"Open In Colab\"/></a>"
      ]
    },
    {
      "cell_type": "code",
      "execution_count": null,
      "metadata": {
        "colab": {
          "base_uri": "https://localhost:8080/"
        },
        "id": "p1s2vqPXRnL3",
        "outputId": "167ea1b0-b71c-425c-c6ee-0ba2b0ab67d8"
      },
      "outputs": [
        {
          "output_type": "stream",
          "name": "stdout",
          "text": [
            "7\n"
          ]
        }
      ],
      "source": [
        "\n",
        "a=\"hi\"\n",
        "b=\"ranjith\"\n",
        "a=3\n",
        "b=4\n",
        "print(a+b)"
      ]
    },
    {
      "cell_type": "code",
      "source": [],
      "metadata": {
        "id": "LN0jC5MmHJNr"
      },
      "execution_count": null,
      "outputs": []
    },
    {
      "cell_type": "code",
      "execution_count": null,
      "metadata": {
        "id": "UADsZjU72OM7"
      },
      "outputs": [],
      "source": []
    },
    {
      "cell_type": "code",
      "execution_count": null,
      "metadata": {
        "colab": {
          "base_uri": "https://localhost:8080/"
        },
        "id": "J3XVlmecmAUJ",
        "outputId": "d5895908-9405-49d1-e3d2-e9ba47052415"
      },
      "outputs": [
        {
          "output_type": "stream",
          "name": "stdout",
          "text": [
            "9 is greater\n"
          ]
        }
      ],
      "source": [
        "#a=int(input())\n",
        "#b=int(input())\n",
        "a=9\n",
        "b=9\n",
        "if a>b:\n",
        "  print(a,\"a is big\")\n",
        "else:\n",
        "  print(b,\"is greater\")"
      ]
    },
    {
      "cell_type": "code",
      "execution_count": null,
      "metadata": {
        "colab": {
          "base_uri": "https://localhost:8080/"
        },
        "id": "LzGV_C9hj4j3",
        "outputId": "061910fb-adde-48f6-b1aa-0e63cfba4f82"
      },
      "outputs": [
        {
          "output_type": "stream",
          "name": "stdout",
          "text": [
            "False\n",
            "ranjith\n"
          ]
        }
      ],
      "source": [
        "b=\"ranjith\"\n",
        "print(b.isupper())\n",
        "print(b)"
      ]
    },
    {
      "cell_type": "code",
      "execution_count": null,
      "metadata": {
        "colab": {
          "base_uri": "https://localhost:8080/"
        },
        "id": "XgPNoXicZYnE",
        "outputId": "aad2d759-7c1d-44f6-fc4e-a5298f287c06"
      },
      "outputs": [
        {
          "output_type": "stream",
          "name": "stdout",
          "text": [
            "<class 'str'>\n"
          ]
        }
      ],
      "source": [
        "a=\"\"\"3\"\"\"\n",
        "\n",
        "print(type(a))"
      ]
    },
    {
      "cell_type": "code",
      "execution_count": null,
      "metadata": {
        "colab": {
          "base_uri": "https://localhost:8080/"
        },
        "id": "YrNrKZsds1dW",
        "outputId": "533e5451-014e-4657-c522-e9aa877c8cd4"
      },
      "outputs": [
        {
          "output_type": "stream",
          "name": "stdout",
          "text": [
            "2 3 5 6 6 7 8 "
          ]
        }
      ],
      "source": [
        "i = 1\n",
        "while True:\n",
        "  i+=1\n",
        "  if i == 4:\n",
        "    continue\n",
        "    print(i,end=\" \")\n",
        "  elif i == 6:\n",
        "    pass\n",
        "    print(i,end=\" \")\n",
        "  elif i == 9:\n",
        "    break\n",
        "  print(i,end=\" \")"
      ]
    },
    {
      "cell_type": "code",
      "execution_count": null,
      "metadata": {
        "colab": {
          "base_uri": "https://localhost:8080/"
        },
        "id": "s-XU_qgO2PmZ",
        "outputId": "d5571c78-3403-4cb9-b753-1e5d465c0a85"
      },
      "outputs": [
        {
          "output_type": "stream",
          "name": "stdout",
          "text": [
            "['Purple', [2, 3, 4, 5], 'Black', (35, 36, 37, 38, 39), {0, 1, 2, 'Parrot', 'Turtle'}, {1: 'King', 2: 'Queen'}]\n",
            "<class 'list'>\n",
            "# \n",
            "# # \n",
            "# # # \n",
            "# # # # \n",
            "# # # # # \n",
            "Length of list :  6\n",
            "# \n",
            "# # \n",
            "# # # \n",
            "# # # # \n",
            "# # # # # \n",
            "Purple = 6\n",
            "[2, 3, 4, 5] = 4\n",
            "Black = 5\n",
            "(35, 36, 37, 38, 39) = 5\n",
            "{0, 1, 2, 'Parrot', 'Turtle'} = 5\n",
            "{1: 'King', 2: 'Queen'} = 2\n",
            "# \n",
            "# # \n",
            "# # # \n",
            "# # # # \n",
            "# # # # # \n"
          ]
        }
      ],
      "source": [
        "\n",
        "def pattern():\n",
        "  for i in range(5):\n",
        "    for j in range(i+1):\n",
        "      print(\"#\",end = \" \")\n",
        "    print()\n",
        "\n",
        "l = [\"Purple\", [2,3,4,5], \"Black\", (35,36,37,38,39), {0,\"Turtle\",1,2,\"Parrot\"},{1:\"King\",2:\"Queen\"}]\n",
        "print(l)\n",
        "print(type(l))\n",
        "\n",
        "pattern()#difining the pattern\n",
        "\n",
        "a = len(l)\n",
        "print(\"Length of list : \", a)\n",
        "\n",
        "pattern()#just calling the pattern\n",
        "\n",
        "for i in l: # a = 6\n",
        "  print(i,\"=\" , len(i))\n",
        "\n",
        "pattern()"
      ]
    },
    {
      "cell_type": "code",
      "execution_count": null,
      "metadata": {
        "colab": {
          "base_uri": "https://localhost:8080/"
        },
        "id": "yvuU-VldtGM6",
        "outputId": "fa88e254-8c49-46c1-8c18-92da98235625"
      },
      "outputs": [
        {
          "output_type": "stream",
          "name": "stdout",
          "text": [
            "ranjit kumar "
          ]
        }
      ],
      "source": [
        "3#l=[\"Ranjith\",\"kuMAR\"]\n",
        "#L=[\"ranjith\",\"kumar\"]\n",
        "L=[\"RANJIT\",\"KUMAR\"]\n",
        "for i in L:\n",
        "  #print(i)\n",
        "  print(i.lower(),end=\" \")"
      ]
    },
    {
      "cell_type": "code",
      "execution_count": null,
      "metadata": {
        "colab": {
          "base_uri": "https://localhost:8080/"
        },
        "id": "rHrwEvss2GrK",
        "outputId": "87164f64-c53f-46aa-a80a-1496e404b329"
      },
      "outputs": [
        {
          "output_type": "stream",
          "name": "stdout",
          "text": [
            "* \n",
            "* * \n",
            "* * * \n",
            "* * * * \n",
            "* * * * * \n",
            "* * * * * * \n",
            "* * * * * * * \n",
            "* * * * * * * * \n"
          ]
        }
      ],
      "source": [
        "n=8     #int(input())\n",
        "for i in range(0,n):\n",
        "  for j in range (i+1):\n",
        "    print(\"*\",end=\" \")\n",
        "  print()"
      ]
    },
    {
      "cell_type": "code",
      "execution_count": null,
      "metadata": {
        "colab": {
          "base_uri": "https://localhost:8080/"
        },
        "id": "HfpwyHsf5xW7",
        "outputId": "4fcf4ced-15a7-4422-e3fb-77eec29025ac"
      },
      "outputs": [
        {
          "output_type": "stream",
          "name": "stdout",
          "text": [
            "# \n",
            "# # \n",
            "# # # \n",
            "# # # # \n",
            "# # # # # \n"
          ]
        }
      ],
      "source": [
        "for i in range(5):\n",
        "    for j in range(i+1):\n",
        "      print(\"#\",end = \" \")\n",
        "    print()\n",
        "\n"
      ]
    },
    {
      "cell_type": "code",
      "execution_count": null,
      "metadata": {
        "colab": {
          "base_uri": "https://localhost:8080/"
        },
        "id": "0hQ8uE0P7NYg",
        "outputId": "968e5cd5-b72d-4169-c27c-4d9e89162304"
      },
      "outputs": [
        {
          "output_type": "stream",
          "name": "stdout",
          "text": [
            "*  \n",
            "*  *  \n",
            "*  *  *  \n",
            "*  *  *  *  \n",
            "*  *  *  *  *  \n"
          ]
        }
      ],
      "source": [
        "for i in range(5):\n",
        "    for j in range(i+1):\n",
        "      print(\"* \",end = \" \")\n",
        "    print()\n"
      ]
    },
    {
      "cell_type": "code",
      "execution_count": null,
      "metadata": {
        "colab": {
          "base_uri": "https://localhost:8080/"
        },
        "id": "tCSKTptg7RvJ",
        "outputId": "70eb9add-69b5-410e-c449-ef632a42ac73"
      },
      "outputs": [
        {
          "output_type": "stream",
          "name": "stdout",
          "text": [
            "@ \r\n",
            "@ @ \r\n",
            "@ @ @ \r\n",
            "@ @ @ @ \r\n",
            "@ @ @ @ @ \r\n"
          ]
        }
      ],
      "source": [
        "n=9\n",
        "for i in range(0,5):\n",
        "  for j in range(i+1):\n",
        "    print(\"@\",end=\" \")\n",
        "  print(\"\\r\")\n"
      ]
    },
    {
      "cell_type": "code",
      "execution_count": null,
      "metadata": {
        "id": "fX_ozRRU888c"
      },
      "outputs": [],
      "source": [
        "def ranjith(n):\n",
        "  #k=n-1\n",
        "  for i in range(n):\n",
        "    for j in range(i+1):\n",
        "      print(end=\" \")\n",
        "        print(\"*\",end=\" \")\n",
        "    print(\" \")\n",
        "#n=5\n",
        "ranjith(5)"
      ]
    },
    {
      "cell_type": "code",
      "execution_count": null,
      "metadata": {
        "id": "wwL5IH9KuVg6"
      },
      "outputs": [],
      "source": [
        "l=list(\"1234\")\n",
        "l[0]=l[1]=5\n",
        "print(l)"
      ]
    },
    {
      "cell_type": "code",
      "execution_count": null,
      "metadata": {
        "id": "ww_9gZsxusgQ"
      },
      "outputs": [],
      "source": [
        "l=list(\"1234\")\n",
        "l[0]=22\n",
        "print(l)"
      ]
    },
    {
      "cell_type": "code",
      "execution_count": null,
      "metadata": {
        "id": "QChIZEi6veGU",
        "colab": {
          "base_uri": "https://localhost:8080/",
          "height": 106
        },
        "outputId": "a2391d22-9fc4-4129-e54f-a88ad4505185"
      },
      "outputs": [
        {
          "output_type": "error",
          "ename": "SyntaxError",
          "evalue": "invalid syntax (<ipython-input-1-665e7399ac11>, line 1)",
          "traceback": [
            "\u001b[0;36m  File \u001b[0;32m\"<ipython-input-1-665e7399ac11>\"\u001b[0;36m, line \u001b[0;32m1\u001b[0m\n\u001b[0;31m    l=(\"1234\",20,509.66,[\"ranjith\"],\"value\":hello)\u001b[0m\n\u001b[0m                                           ^\u001b[0m\n\u001b[0;31mSyntaxError\u001b[0m\u001b[0;31m:\u001b[0m invalid syntax\n"
          ]
        }
      ],
      "source": [
        "l=(\"1234\",20,509.66,[\"ranjith\"],\"value\":hello)\n",
        "#l[0]=22\n",
        "print(l)"
      ]
    },
    {
      "cell_type": "code",
      "source": [],
      "metadata": {
        "id": "TbDIt2taDqLj"
      },
      "execution_count": null,
      "outputs": []
    },
    {
      "cell_type": "code",
      "execution_count": null,
      "metadata": {
        "id": "DzUmLCcXwM3o"
      },
      "outputs": [],
      "source": [
        "s={10,20,[30,40]}\n",
        "r=s[2]\n",
        "print(r)"
      ]
    },
    {
      "cell_type": "code",
      "execution_count": null,
      "metadata": {
        "id": "xqypAdGBOWPl"
      },
      "outputs": [],
      "source": [
        "a=35\n",
        "print(\"%f\"%a)"
      ]
    },
    {
      "cell_type": "code",
      "execution_count": null,
      "metadata": {
        "id": "d3XYUpKcOg52"
      },
      "outputs": [],
      "source": [
        "x=20\n",
        "def add():\n",
        "  x=3\n",
        "  x=x+3\n",
        "  print(x)\n",
        "add()\n",
        "print(x)"
      ]
    },
    {
      "cell_type": "code",
      "execution_count": null,
      "metadata": {
        "id": "YmBb-fxVPJY0"
      },
      "outputs": [],
      "source": [
        "Tuple=(64,65,'D')\n",
        "ax=max(Tuple)\n",
        "print(ax)"
      ]
    },
    {
      "cell_type": "code",
      "execution_count": null,
      "metadata": {
        "id": "gDeUw85MP2hu"
      },
      "outputs": [],
      "source": [
        "Dict={1:2,3:4}\n",
        "for i,j in Dict.items():\n",
        "  print(i,j,sept=\":\")"
      ]
    },
    {
      "cell_type": "code",
      "execution_count": null,
      "metadata": {
        "id": "a8A1pjzBYZ03"
      },
      "outputs": [],
      "source": [
        "#factors of a given number using while loop\n",
        "n=int(input(\"enter n value\"))\n",
        "print(\"the numbers are\")\n",
        "i=1\n",
        "while(i<=n):\n",
        "  if(n%i)==0:\n",
        "    print(i,end=\" \")\n",
        "  i=i+1"
      ]
    },
    {
      "cell_type": "code",
      "execution_count": null,
      "metadata": {
        "id": "Sj_b6oYgZJRX"
      },
      "outputs": [],
      "source": [
        "#factors of a given number using for loop\n",
        "n=int(input(\"enter n value\"))\n",
        "print(\"the factors are\")\n",
        "for i in range(1,n+1):\n",
        "  if n%i==0:\n",
        "    print(i)"
      ]
    },
    {
      "cell_type": "code",
      "execution_count": null,
      "metadata": {
        "id": "VK1LM5q9Zl3j"
      },
      "outputs": [],
      "source": [
        "#factorial of a given number using while loop\n",
        "n=int(input(\"enter n value\"))\n",
        "print(\"the factorial of the given numbers is:\")\n",
        "fact=1\n",
        "i=1\n",
        "while(i<=n):\n",
        "  fact=fact*i\n",
        "  i=i+1\n",
        "print(fact)"
      ]
    },
    {
      "cell_type": "code",
      "execution_count": null,
      "metadata": {
        "id": "q__YbJmSaM1T"
      },
      "outputs": [],
      "source": [
        "#factorial of a given number using for loop\n",
        "n=int(input(\"enter n value\"))\n",
        "print(\"the factorial of the given number is\")\n",
        "fact=1\n",
        "i=1\n",
        "for i in range(1,n+1):\n",
        "  fact=fact*i\n",
        "print(fact)"
      ]
    },
    {
      "cell_type": "code",
      "execution_count": null,
      "metadata": {
        "id": "TB3lGqPla8LK"
      },
      "outputs": [],
      "source": [
        "#given no is prime or not\n",
        "n=int(input(\"enter n value\"))\n",
        "i=1\n",
        "c=0\n",
        "while(i<=n):\n",
        "  if (n%i)==0:\n",
        "    c=c+1\n",
        "  i=i+1\n",
        "if(c==2):\n",
        "    print(n,\"is prime\")\n",
        "else:\n",
        "    print(n,\"is not a prime\")\n",
        "\n"
      ]
    },
    {
      "cell_type": "code",
      "execution_count": null,
      "metadata": {
        "id": "OXGG2rSj2uGH"
      },
      "outputs": [],
      "source": [
        "#prime or not using for\n",
        "n=int(input(\"enter n value\"))\n",
        "c=0\n",
        "for i in range(1,n+1):\n",
        "  if(n%i)==0:\n",
        "    c=c+1\n",
        "if(c==2):\n",
        "  print(n,\"is prime\")\n",
        "else:\n",
        "  print(n,\"is not prime\")"
      ]
    },
    {
      "cell_type": "code",
      "execution_count": null,
      "metadata": {
        "id": "zQzbgV2X6a32"
      },
      "outputs": [],
      "source": [
        "#prime from 1 to n using while loop\n",
        "n=int(input(\"enter n value\"))\n",
        "i=1\n",
        "while(i<=n):\n",
        "  c=0\n",
        "  j=1\n",
        "  while(j<=i):\n",
        "    if(i%j)==0:\n",
        "      c=c+1\n",
        "    j=j+1\n",
        "  if(c==2):\n",
        "    print(i)\n",
        "  i=i+1"
      ]
    },
    {
      "cell_type": "code",
      "execution_count": null,
      "metadata": {
        "id": "9Ph5e98cQM4u"
      },
      "outputs": [],
      "source": [
        "#fibonacci series using for loop\n",
        "n=int(input(\"enter n value\"))\n",
        "a=0\n",
        "b=1\n",
        "print(\"the fibonacci series is\")\n",
        "print(a)\n",
        "print(b)\n",
        "for i in range(1,n+1):\n",
        "  c=a+b\n",
        "  print(c,end=\" \")\n",
        "  a=b\n",
        "  b=c"
      ]
    },
    {
      "cell_type": "code",
      "execution_count": null,
      "metadata": {
        "id": "HYjpsZmKP1HO"
      },
      "outputs": [],
      "source": [
        "#fibonacci series using whileloop\n",
        "n=int(input(\"enter n value\"))\n",
        "a=0\n",
        "b=1\n",
        "print(a)\n",
        "print(b)\n",
        "i=1\n",
        "while(i<=n):#while(n>=i):\n",
        "  c=a+b\n",
        "  print(c,end=\" \")\n",
        "  a=b\n",
        "  b=c\n",
        "  i=i+1\n",
        "  #n=n-1"
      ]
    },
    {
      "cell_type": "code",
      "execution_count": null,
      "metadata": {
        "id": "cro8I127P1yp"
      },
      "outputs": [],
      "source": [
        "#prime numbers from 1 to n using forloop\n",
        "n=int(input(\"enter n value\"))\n",
        "print(\"the prime numbers are\")\n",
        "for i in range(1,n+1):\n",
        "    c=0\n",
        "    for j in range(1,i+1):\n",
        "        if(i%j==0):\n",
        "            c=c+1\n",
        "    if(c==2):\n",
        "        print(i)\n"
      ]
    },
    {
      "cell_type": "code",
      "execution_count": null,
      "metadata": {
        "id": "hNHxu8NGSk7d"
      },
      "outputs": [],
      "source": [
        "#prime numbers from 1 to n using forloop\n",
        "n=int(input(\"enter n value\"))\n",
        "print(\"the prime numbers are\")\n",
        "for i in range(1,n+1):\n",
        "    c=0\n",
        "    for j in range(1,i+1):\n",
        "        if(i%j==0):\n",
        "            c=c+1\n",
        "    if(c==2):\n",
        "        print(i,end='  ')\n"
      ]
    },
    {
      "cell_type": "code",
      "source": [
        "#prime from m to n\n",
        "m=int(input(\"enter starting value\"))\n",
        "n=int(input(\"enter ending value\"))\n",
        "for i in range(m,n+1):\n",
        "  c=0\n",
        "  for j in range(1,i+1):\n",
        "    if(i%j)==0:\n",
        "      c=c+1\n",
        "  if(c==2):\n",
        "    print(i)"
      ],
      "metadata": {
        "id": "QfmrO9yJppGL",
        "colab": {
          "base_uri": "https://localhost:8080/"
        },
        "outputId": "a8c401a8-e3c9-4bca-a50a-ac7eed214996"
      },
      "execution_count": null,
      "outputs": [
        {
          "output_type": "stream",
          "name": "stdout",
          "text": [
            "enter starting value2\n",
            "enter ending value10\n",
            "2\n",
            "3\n",
            "5\n",
            "7\n"
          ]
        }
      ]
    },
    {
      "cell_type": "code",
      "execution_count": null,
      "metadata": {
        "id": "k8aWi0E-SlSA"
      },
      "outputs": [],
      "source": [
        "#check weather prime or not using whileloop\n",
        "n=int(input(\"enter n value\"))\n",
        "i=1\n",
        "c=0\n",
        "while(i<=n):\n",
        "    if(n%i)==0:\n",
        "        c=c+1\n",
        "    i=i+1\n",
        "if(c==2):\n",
        "    print(\"the number\",n,\"is prime\")\n",
        "else:\n",
        "    print(\"the number\",n,\"is not prime\")\n"
      ]
    },
    {
      "cell_type": "code",
      "source": [
        "#prime from m to n\n",
        "m=int(input(\"enter n value\"))\n",
        "n=int(input(\"enter ending value\"))\n",
        "for i in range(m,n+1):\n",
        "  c=0\n",
        "  for j in range(1,i+1):\n",
        "    if(i%j)==0:\n",
        "      c=c+1\n",
        "  if(c==2):\n",
        "    print(i)"
      ],
      "metadata": {
        "id": "9n1ZolfXpiFW"
      },
      "execution_count": null,
      "outputs": []
    },
    {
      "cell_type": "code",
      "execution_count": null,
      "metadata": {
        "id": "a-vWKABlSnpb"
      },
      "outputs": [],
      "source": [
        "#check weather prime or not using whileloop\n",
        "n=int(input(\"enter n value\"))\n",
        "i=1\n",
        "c=0\n",
        "while(n>=i):\n",
        "    if(n%i)==0:\n",
        "        c=c+1\n",
        "    i=i+1\n",
        "if(c==2):\n",
        "    print(\"the number\",n,\"is prime\")\n",
        "else:\n",
        "    print(\"the number\",n,\"is not prime\")"
      ]
    },
    {
      "cell_type": "code",
      "execution_count": null,
      "metadata": {
        "id": "jhdya2xU5C7A"
      },
      "outputs": [],
      "source": [
        "#prime from m to n\n",
        "m=int(input(\"enter n value\"))\n",
        "n=int(input(\"enter ending value\"))\n",
        "for i in range(m,n+1):\n",
        "  c=0\n",
        "  for j in range(1,i+1):\n",
        "    if(i%j)==0:\n",
        "      c=c+1\n",
        "  if(c==2):\n",
        "    print(i)"
      ]
    },
    {
      "cell_type": "code",
      "execution_count": null,
      "metadata": {
        "id": "baDeP5KtSmus"
      },
      "outputs": [],
      "source": [
        "#check weather prime or not using for loop\n",
        "n=int(input(\"enter n value\"))\n",
        "c=0\n",
        "for i in range(1,n+1):\n",
        "    if(n%i)==0:\n",
        "        c=c+1\n",
        "if(c==2):\n",
        "    print(\"the number\",n,\"is prime\")\n",
        "else:\n",
        "    print(\"the number\",n,\"is not prime\")"
      ]
    },
    {
      "cell_type": "code",
      "execution_count": null,
      "metadata": {
        "id": "wKvtRN0uSnLo"
      },
      "outputs": [],
      "source": [
        "# 1 to n primes using while\n",
        "n=int(input(\"enter n value\"))\n",
        "i=1\n",
        "while(n>=i):\n",
        "    c=0\n",
        "    j=1\n",
        "    while(i>=j):\n",
        "        if(i%j)==0:\n",
        "            c=c+1\n",
        "        j=j+1\n",
        "    if(c==2):\n",
        "      print(i)\n",
        "    i=i+1\n"
      ]
    },
    {
      "cell_type": "code",
      "execution_count": null,
      "metadata": {
        "id": "JG0Q0iwJSnYj"
      },
      "outputs": [],
      "source": [
        "# between range(m to n) primes using while\n",
        "i=int(input(\"enter starting range\"))\n",
        "n=int(input(\"enter ending range\"))\n",
        "while(n>=i):\n",
        "    c=0\n",
        "    j=1\n",
        "    while(i>=j):\n",
        "        if(i%j)==0:\n",
        "            c=c+1\n",
        "        j=j+1\n",
        "    if(c==2):\n",
        "      print(i,end=\" \")\n",
        "    i=i+1\n"
      ]
    },
    {
      "cell_type": "code",
      "execution_count": null,
      "metadata": {
        "id": "eHe9i16mSlgW"
      },
      "outputs": [],
      "source": [
        "#between range (n to m) prime using for\n",
        "m=int(input(\"enter the starting range\"))\n",
        "n=int(input(\"enter the ending range\"))\n",
        "print(\"the prime numbers from\",m,\"to\",n,\"are:\")\n",
        "for i in range(m,n+1):\n",
        "    c=0\n",
        "    for j in range(1,i+1):\n",
        "        if(i%j)==0:\n",
        "            c=c+1\n",
        "    if(c==2):\n",
        "        print(i,end=\" \")"
      ]
    },
    {
      "cell_type": "code",
      "execution_count": null,
      "metadata": {
        "id": "Zj4NVlmkSlyk"
      },
      "outputs": [],
      "source": [
        "#fibonacci series using whileloop\n",
        "n=int(input(\"enter n value\"))\n",
        "a=0\n",
        "b=1\n",
        "print(a)\n",
        "print(b)\n",
        "i=1\n",
        "while(i<=n):#while(n>=i):\n",
        "  c=a+b\n",
        "  print(c,end=\" \")\n",
        "  a=b\n",
        "  b=c\n",
        "  i=i+1\n",
        "  #n=n-1"
      ]
    },
    {
      "cell_type": "code",
      "execution_count": null,
      "metadata": {
        "id": "tPZktTimSmDN"
      },
      "outputs": [],
      "source": [
        "#fibonacci series between range(m to n) using while loop\n",
        "m=int(input(\"enter starting range\"))\n",
        "n=int(input(\"enter end range\"))\n",
        "print(\"the fibonacci series is\")\n",
        "a=0\n",
        "b=1\n",
        "c=0\n",
        "while(c<=n):\n",
        "  if(c>=m):\n",
        "    print(c)\n",
        "  a=b\n",
        "  b=c\n",
        "  c=a+b"
      ]
    },
    {
      "cell_type": "code",
      "execution_count": null,
      "metadata": {
        "id": "hjG8ZARbSmTU"
      },
      "outputs": [],
      "source": [
        "#factorial of the given number using for loop\n",
        "n=int(input(\"enter n value\"))\n",
        "fact=1\n",
        "for i in range(1,n+1):\n",
        "  fact=fact*i\n",
        "print(fact)"
      ]
    },
    {
      "cell_type": "code",
      "execution_count": null,
      "metadata": {
        "id": "m4bHIhoBSmg3"
      },
      "outputs": [],
      "source": [
        "#factorial of the given number using while loop between range\n",
        "#factorial from m to n using while loop\n",
        "m=int(input(\"enter m value\"))\n",
        "n=int(input(\"enter n value\"))\n",
        "print(\"the factorial of the numbers from\",m,\"to\",n,\"are:\")\n",
        "#i=1\n",
        "while(m<=n):\n",
        "  fact=1\n",
        "  j=1\n",
        "  while(j<=m):\n",
        "    fact=fact*j\n",
        "    j=j+1\n",
        "  print(fact,end=\" \")\n",
        "  m=m+1"
      ]
    },
    {
      "cell_type": "code",
      "execution_count": null,
      "metadata": {
        "id": "ZKw9NxgXWn6O"
      },
      "outputs": [],
      "source": [
        "#factorial of the given number using while loop\n",
        "m=int(input(\"enter m value\"))\n",
        "n=int(input(\"enter n value\"))\n",
        "#fact=1\n",
        "i=1\n",
        "j=1\n",
        "while(n>=m):\n",
        "  fact=1\n",
        "  i=i+1\n",
        "  while(j<=i):\n",
        "    fact=fact*j\n",
        "    j=j+1\n",
        " #\n",
        "  #m=m+1\n",
        "print(fact)"
      ]
    },
    {
      "cell_type": "code",
      "execution_count": null,
      "metadata": {
        "id": "MxOZQeqDP2ER"
      },
      "outputs": [],
      "source": [
        "\n",
        "#factorial between the range(m to n) using for loop\n",
        "m=int(input(\"enter starting range\"))\n",
        "n=int(input(\"enter ending range\"))\n",
        "for i in range(m,n+1):\n",
        "  fact=1\n",
        "  for j in range(1,i+1):\n",
        "    fact=fact*j\n",
        "  print(fact,end=\" \")"
      ]
    },
    {
      "cell_type": "code",
      "execution_count": null,
      "metadata": {
        "id": "tE19M1p6rNoy"
      },
      "outputs": [],
      "source": []
    },
    {
      "cell_type": "code",
      "execution_count": null,
      "metadata": {
        "id": "CQSS6DMwrN9V"
      },
      "outputs": [],
      "source": [
        "#reverse of the number using for loop\n",
        "n=int(input(\"enter n value\"))\n",
        "sum=0\n",
        "for i in range(1,n+1):\n",
        "  r=n%10\n",
        "  sum=10*sum+r\n",
        "  n=n//10\n",
        "print(sum)"
      ]
    },
    {
      "cell_type": "code",
      "execution_count": null,
      "metadata": {
        "id": "NDPMI03srOJ7"
      },
      "outputs": [],
      "source": [
        "12# Python program to reverse a number using for loop\n",
        "\n",
        "# take inputs\n",
        "num =str(input(\"enter number\"))\n",
        "\n",
        "# calculate reverse of number\n",
        "reverse = ''\n",
        "for i in range(len(num), 0, -1):\n",
        "   reverse += num[i-1]\n",
        "\n",
        "# print reverse of number\n",
        "print('The reverse number is =', reverse)"
      ]
    },
    {
      "cell_type": "code",
      "execution_count": null,
      "metadata": {
        "id": "UqIV0d6urOWp"
      },
      "outputs": [],
      "source": [
        "n=int(input(\"enter n value\"))\n",
        "temp=n\n",
        "sum=0\n",
        "while(n>0):\n",
        "  r=n%10\n",
        "  sum=10*sum+r\n",
        "  n=n//10\n",
        "if(temp==sum):\n",
        "  print(\"the number is palindrom\",sum)\n",
        "else:\n",
        "  print(\"the number is not palindrom\",sum)"
      ]
    },
    {
      "cell_type": "code",
      "execution_count": null,
      "metadata": {
        "id": "G-aYN87hrOiT"
      },
      "outputs": [],
      "source": [
        "n=int(input(\"enter n value\"))\n",
        "temp=n\n",
        "sum=0\n",
        "for i in range(1,n):\n",
        "  r=n%10\n",
        "  sum=10*sum+r\n",
        "  n=n//10\n",
        "if(temp==sum):\n",
        "  print(\"it is palindrom\",sum)\n",
        "else:\n",
        "  print(\"it is not palindrom\",sum)"
      ]
    },
    {
      "cell_type": "code",
      "source": [
        "n=int(input(\"Enter number:\"))\n",
        "temp=n\n",
        "rev=0\n",
        "while(n>0):\n",
        "    dig=n%10\n",
        "    rev=rev*10+dig\n",
        "    n=n//10\n",
        "if(temp==rev):\n",
        "    print(temp,\"The number is a palindrome!\")\n",
        "else:\n",
        "    print(temp,\"The number isn't a palindrome!\")"
      ],
      "metadata": {
        "id": "PnB7d08HTrXK"
      },
      "execution_count": null,
      "outputs": []
    },
    {
      "cell_type": "code",
      "execution_count": null,
      "metadata": {
        "id": "ZbZB2bJCrOvO"
      },
      "outputs": [],
      "source": [
        "# Palindrome number in python using for loop\n",
        "#it is true for the odd number of digits only\n",
        "# take inputs\n",
        "num = input('Enter the number: ')\n",
        "\n",
        "# check number is palindrome or not\n",
        "i = 0\n",
        "length = len(num)\n",
        "if(len(num) % 2 == 0):\n",
        "    length = len(num) + 1\n",
        "\n",
        "for i in range(length):\n",
        "   if num[i] != num[-1-i]:\n",
        "      print(num,'is not a Palindrome')\n",
        "      break\n",
        "else:\n",
        "   print(num,'is a Palindrome')"
      ]
    },
    {
      "cell_type": "code",
      "execution_count": null,
      "metadata": {
        "id": "DnIICXLErO7W"
      },
      "outputs": [],
      "source": [
        "def sum(a,b):\n",
        "  print(a+b,\"this is the sum\")\n",
        "a=int(input(\"enter a value\"))\n",
        "b=int(input(\"enter b value\"))\n",
        "sum(a,b)"
      ]
    },
    {
      "cell_type": "code",
      "execution_count": null,
      "metadata": {
        "colab": {
          "background_save": true
        },
        "id": "DecN2M_D9P9U"
      },
      "outputs": [],
      "source": [
        "def fact(n):\n",
        "  #i=1\n",
        "  fact=1\n",
        "  for i in range(1,n+1):\n",
        "    fact*(i+1)\n",
        "  return fact\n",
        "n=int(input(\"enter n value\"))\n",
        "fact(n)\n",
        "print(\"the factorial is\",fact(n))"
      ]
    },
    {
      "cell_type": "code",
      "execution_count": null,
      "metadata": {
        "id": "s8_8ahMb9QT0"
      },
      "outputs": [],
      "source": []
    },
    {
      "cell_type": "code",
      "execution_count": null,
      "metadata": {
        "id": "E9Rt--CF9Qid"
      },
      "outputs": [],
      "source": []
    },
    {
      "cell_type": "code",
      "execution_count": null,
      "metadata": {
        "id": "gNCxcwgQ9Qva"
      },
      "outputs": [],
      "source": []
    },
    {
      "cell_type": "code",
      "execution_count": null,
      "metadata": {
        "id": "FI9raIC5rPHV"
      },
      "outputs": [],
      "source": []
    },
    {
      "cell_type": "code",
      "execution_count": null,
      "metadata": {
        "id": "jkBaJl9MLxh2"
      },
      "outputs": [],
      "source": [
        "n=int(input(\"enter n value\"))\n",
        "#print(\"the reverse of the number is\")\n",
        "sum=0\n",
        "while(n>0):\n",
        "  r=n%10\n",
        "  sum=sum*10+r\n",
        "  n=n//10\n",
        "print(\"the reverse of the number is\",sum)\n",
        "\n"
      ]
    },
    {
      "cell_type": "code",
      "execution_count": null,
      "metadata": {
        "id": "bVgvNZlpT1br"
      },
      "outputs": [],
      "source": [
        "n=int(input(\"Enter number:\"))\n",
        "temp=n\n",
        "rev=0\n",
        "while(n>0):\n",
        "    dig=n%10\n",
        "    rev=rev*10+dig\n",
        "    n=n//10\n",
        "if(temp==rev):\n",
        "    print(temp,\"The number is a palindrome!\")\n",
        "else:\n",
        "    print(temp,\"The number isn't a palindrome!\")"
      ]
    },
    {
      "cell_type": "code",
      "execution_count": null,
      "metadata": {
        "id": "bjp8lEv3UXuN"
      },
      "outputs": [],
      "source": [
        "n=int(input(\"enter n value\"))\n",
        "#print(\"the reverse of the number is\")\n",
        "t=n\n",
        "sum=0\n",
        "while(n>0):\n",
        "  r=n%10\n",
        "  sum=sum*10+r\n",
        "  n=n//10\n",
        "if(t==sum):\n",
        "  print(t,\"is palindrom\")\n",
        "else:\n",
        "  print(t,\"is not palindrom\")\n",
        "\n"
      ]
    },
    {
      "cell_type": "code",
      "execution_count": null,
      "metadata": {
        "id": "KEM5o6qiV6Dk"
      },
      "outputs": [],
      "source": [
        "n=int(input(\"enter n value\"))\n",
        "#print(\"the reverse of the number is\")\n",
        "t=n\n",
        "sum=0\n",
        "while(n>0):\n",
        "  r=n%10\n",
        "  sum=sum*10+r\n",
        "  n=n//10\n",
        "if(t==sum):\n",
        "  print(t,\"is palindrom\")\n",
        "else:\n",
        "  print(t,\"is not palindrom\")\n",
        "\n"
      ]
    },
    {
      "cell_type": "code",
      "execution_count": null,
      "metadata": {
        "id": "2CmlnymdWQ1v"
      },
      "outputs": [],
      "source": [
        "%%time\n",
        "#Used to calculate total operation time\n",
        "list1 = list(range(1,1000000))\n",
        "list2 = list(range(2,1000001))\n",
        "list3 = []\n",
        "for i in range(len(list1)):\n",
        "    list3.append(list1[i]+list2[i])\n",
        "\n"
      ]
    },
    {
      "cell_type": "code",
      "execution_count": null,
      "metadata": {
        "id": "BbcmskOSz26y"
      },
      "outputs": [],
      "source": [
        "%%time\n",
        "#Used to calculate total operation time\n",
        "#Importing Numpy\n",
        "import numpy as np\n",
        "#Creating a numpy array of 1 million numbers\n",
        "a = np.arange(1,1000000)\n",
        "b = np.arange(2,1000001)\n",
        "c = a+b\n"
      ]
    },
    {
      "cell_type": "code",
      "execution_count": null,
      "metadata": {
        "id": "UXixjce50A1N"
      },
      "outputs": [],
      "source": [
        "#creating a list of lists of 5 mpg, horsepower and acceleration values\n",
        "car_attributes = [[18, 15, 18, 16, 17],[130, 165, 150, 150, 140],[307, 350, 318, 304, 302]]\n",
        "#converting dtype\n",
        "car_attributes_arr = np.array(car_attributes, dtype = 'float')\n",
        "print(car_attributes_arr)\n",
        "print(car_attributes_arr.dtype)\n"
      ]
    },
    {
      "cell_type": "code",
      "execution_count": null,
      "metadata": {
        "id": "-G_6P7qHqv8C"
      },
      "outputs": [],
      "source": [
        "n=int(input(\"enter n value\"))\n",
        "i=1\n",
        "while(n>=i):\n",
        "    c=0\n",
        "    j=1\n",
        "    while(i>=j):\n",
        "        if(i%j)==0:\n",
        "            c=c+1\n",
        "        j=j+1\n",
        "    i=i+1\n",
        "if(c==2):\n",
        "  print(i)"
      ]
    },
    {
      "cell_type": "code",
      "execution_count": null,
      "metadata": {
        "id": "8a4o8c2kqv-3"
      },
      "outputs": [],
      "source": [
        "n=int(input(\"enter n value\"))\n",
        "i=1\n",
        "while(n>=i):\n",
        "    c=0\n",
        "    j=1\n",
        "    while(i>=j):\n",
        "        if(i%j)==0:\n",
        "            c=c+1\n",
        "        j=j+1\n",
        "    if(c==2):\n",
        "      print(i)\n",
        "    i=i+1"
      ]
    },
    {
      "cell_type": "code",
      "execution_count": null,
      "metadata": {
        "id": "IIWoxPTLqwBP"
      },
      "outputs": [],
      "source": []
    },
    {
      "cell_type": "code",
      "execution_count": null,
      "metadata": {
        "id": "uEC8A0nPqwFw"
      },
      "outputs": [],
      "source": []
    },
    {
      "cell_type": "code",
      "execution_count": null,
      "metadata": {
        "id": "qqPAzuVgqwIv"
      },
      "outputs": [],
      "source": []
    },
    {
      "cell_type": "code",
      "execution_count": null,
      "metadata": {
        "id": "z0ciJ00WqwLX"
      },
      "outputs": [],
      "source": []
    },
    {
      "cell_type": "code",
      "execution_count": null,
      "metadata": {
        "id": "AxEp1PpVqwN7"
      },
      "outputs": [],
      "source": []
    },
    {
      "cell_type": "code",
      "execution_count": null,
      "metadata": {
        "id": "axYQEkX8qwQl"
      },
      "outputs": [],
      "source": []
    },
    {
      "cell_type": "code",
      "execution_count": null,
      "metadata": {
        "id": "YxvZEbPXqwTN"
      },
      "outputs": [],
      "source": []
    },
    {
      "cell_type": "code",
      "execution_count": null,
      "metadata": {
        "id": "BLkfmeZSqwWE"
      },
      "outputs": [],
      "source": [
        "def Blooms(s):\n",
        "  s1=(\"define\",\"find\",\"hellow\")\n",
        "  s2=(\"under\",\"classify\",\"ranjith\")\n",
        "  s3=(\"how\",\"are\",\"you\")\n",
        "  s4=s.split()\n",
        "  print(s4)\n",
        "  for i in s4:\n",
        "    if i in s1:\n",
        "      print(\"print it is there\")\n",
        "      break\n",
        "    if i in s2:\n",
        "      print(\"it is there\")\n",
        "      break\n",
        "    if i in s3:\n",
        "      print(\"it is there\")\n",
        "      break\n",
        "    else:\n",
        "      print(\"it is not there\")\n",
        "  count=0\n",
        "  for i in s1:\n",
        "    for j in s4:\n",
        "      if i==j:\n",
        "        count=1\n",
        "        break\n",
        "  if count==1:\n",
        "    print(\"it is under sentance 1\")\n",
        "  count1=0\n",
        "  for i in s2:\n",
        "    for j in s4:\n",
        "      if i==j:\n",
        "        count1=1\n",
        "        break\n",
        "  if count1==1:\n",
        "    print(\"it is under sentance 2\")\n",
        "  count2=0\n",
        "  for i in s3:\n",
        "    for j in s4:\n",
        "      if i==j:\n",
        "        count2=1\n",
        "        break\n",
        "  if count2==1:\n",
        "    print(\"it is under sentance 3\")\n",
        "s=input(\"enter input\")\n",
        "Blooms(s)"
      ]
    },
    {
      "cell_type": "code",
      "execution_count": null,
      "metadata": {
        "id": "cYysTQIHGr0-"
      },
      "outputs": [],
      "source": [
        "# Python code to illustrate read() mode\n",
        "file = open(\"file.txt\", \"r\")\n",
        "print (file.read())\n"
      ]
    },
    {
      "cell_type": "code",
      "execution_count": null,
      "metadata": {
        "id": "P-xUSdZ40zkI"
      },
      "outputs": [],
      "source": [
        "\n"
      ]
    },
    {
      "cell_type": "code",
      "execution_count": null,
      "metadata": {
        "id": "5MjyDdPOoHyw"
      },
      "outputs": [],
      "source": [
        "#@title Default title text\n",
        "import pandas as pd\n",
        "from sklearn import preprocessing\n",
        "dataset=pd.read_csv('Age-salary.csv')\n",
        "features=dataset.iloc[:,[2,3]].values\n",
        "minmaxscaler_as=preprocessing.MinMaxScaler(feature_range=(0,2))\n",
        "features_scale=minmaxscaler_as.fit_transform(features)\n",
        "print(dataset.dtypes)\n",
        "print(features_scale)\n",
        "print(dataset.head(20))"
      ]
    },
    {
      "cell_type": "markdown",
      "metadata": {
        "id": "4QjYJypomCzI"
      },
      "source": [
        "# New Section"
      ]
    },
    {
      "cell_type": "code",
      "execution_count": null,
      "metadata": {
        "id": "EKo6io2EmJxr"
      },
      "outputs": [],
      "source": []
    },
    {
      "cell_type": "code",
      "execution_count": null,
      "metadata": {
        "id": "KTCCpOciwSBy"
      },
      "outputs": [],
      "source": [
        "import pandas as pd\n",
        "from sklearn import preprocessing\n",
        "dataset = pd.read_csv('/content/Age-salary.csv')\n",
        "features = dataset.iloc[:,[2]].values #represents age column\n",
        "binarizer2 = preprocessing.Binarizer()\n",
        "# above the value 33 all will be set to 1\n",
        "binarizer_scaled2 = binarizer2.fit_transform(features)\n",
        "dataset['bin_col']=binarizer_scaled2\n",
        "print(dataset.head())\n"
      ]
    },
    {
      "cell_type": "markdown",
      "metadata": {
        "id": "oPCftiLaxF3j"
      },
      "source": [
        "# New Section"
      ]
    },
    {
      "cell_type": "code",
      "execution_count": null,
      "metadata": {
        "id": "9Fo9WucxxocM"
      },
      "outputs": [],
      "source": [
        "import pandas as pd\n",
        "import numpy as np\n",
        "import matplotlib.pyplot as plt\n",
        "\n",
        "df_train = pd.read_csv('SalaryData_Train.csv')\n",
        "print(df_train.head())\n",
        "plt.scatter(df_train['YearsExperience'],df_train['Salary'])\n",
        "plt.xlabel('Years of Experience')\n",
        "plt.ylabel('Salary in thousands')\n",
        "plt.title('Salary V/S Years of Experience')\n",
        "plt.show()\n",
        "\n",
        "feature = df_train.iloc[:,:-1].values\n",
        "labels = df_train.iloc[:,1].values #print(feature)\n",
        "#print(labels)\n",
        "\n",
        "from sklearn.model_selection import train_test_split\n",
        "\n",
        "X_train, X_test, y_train, y_test = train_test_split(feature, labels, test_size = 0.3, random_state=0)\n",
        "\n",
        "from sklearn.linear_model import LinearRegression\n",
        "reg = LinearRegression()\n",
        "reg.fit(X_train,y_train)\n",
        "plt.scatter(X_train,y_train,color='r')\n",
        "plt.plot(X_train,reg.predict(X_train),color='b')\n",
        "plt.show()\n",
        "\n"
      ]
    },
    {
      "cell_type": "code",
      "execution_count": null,
      "metadata": {
        "id": "MC_JxdgjyvZK"
      },
      "outputs": [],
      "source": []
    },
    {
      "cell_type": "markdown",
      "metadata": {
        "id": "lCzFGh8KYHIu"
      },
      "source": [
        "# New Section"
      ]
    },
    {
      "cell_type": "code",
      "execution_count": null,
      "metadata": {
        "id": "gg-MaOF-t1VZ"
      },
      "outputs": [],
      "source": [
        "import pandas as pd\n",
        "import numpy as np\n",
        "import matplotlib.pyplot as plt\n",
        "df_train = pd.read_csv('SalaryData_Train.csv')\n",
        "print(df_train.head())\n",
        "plt.scatter(df_train['YearsExperience'],df_train['Salary'])\n",
        "plt.xlabel('Years of Experience')\n",
        "plt.ylabel('Salary in thousands')\n",
        "plt.title('Salary V/S Years of Experience')\n",
        "plt.show()\n",
        "\n",
        "feature = df_train.iloc[:,:-1].values\n",
        "labels = df_train.iloc[:,1].values\n",
        "#print(feature)\n",
        "#print(labels)\n",
        "\n",
        "from sklearn.model_selection import train_test_split\n",
        "X_train, X_test, y_train, y_test = train_test_split(feature, labels, test_size = 0.3, random_state=0)\n",
        "\n",
        "from sklearn.linear_model import LinearRegression\n",
        "reg = LinearRegression()\n",
        "reg.fit(X_train,y_train)\n",
        "plt.scatter(X_train,y_train,color='r')\n",
        "plt.plot(X_train,reg.predict(X_train),color='b')\n",
        "plt.show()\n",
        "\n"
      ]
    },
    {
      "cell_type": "code",
      "execution_count": null,
      "metadata": {
        "id": "zzmyjTyIuGWR"
      },
      "outputs": [],
      "source": [
        "from google.colab import drive\n",
        "drive.mount('/content/drive')"
      ]
    },
    {
      "cell_type": "code",
      "execution_count": null,
      "metadata": {
        "id": "B5Rsx53C1gvZ"
      },
      "outputs": [],
      "source": [
        "#import pandas as pd\n",
        "import numpy as np\n",
        "import matplotlib.pyplot as plt\n",
        "x=np.arange(0,3*np.pi,0.1)\n",
        "x=np.linspace(0,2,10)\n",
        "y=np.sin(x)\n",
        "plt.plot(x,y)\n",
        "plt.show()\n",
        "print(\"sine=\",np.sin(x))\n",
        "#plt.show()"
      ]
    },
    {
      "cell_type": "code",
      "execution_count": null,
      "metadata": {
        "id": "cUfVBWrZ2gvX"
      },
      "outputs": [],
      "source": [
        "import numpy as np\n",
        "import matplotlib.pyplot as plt\n",
        "x=np.linspace(0,10,1)\n",
        "y=np.sin(x)\n",
        "plt.plot(x,y)\n",
        "print(\"sine=\",np.sin(x))\n",
        "plt.show()"
      ]
    },
    {
      "cell_type": "code",
      "execution_count": null,
      "metadata": {
        "id": "7fz0r5a54KZX"
      },
      "outputs": [],
      "source": [
        "n=int(input())\n",
        "sum=0\n",
        "if(n>0):\n",
        "  for i in range(1,n+1~):\n",
        "    r=n%10\n",
        "    sum=sum+r\n",
        "    n=n/10\n",
        "print(sum)"
      ]
    },
    {
      "cell_type": "code",
      "execution_count": null,
      "metadata": {
        "id": "ukicQ3dhoPjo"
      },
      "outputs": [],
      "source": [
        "n=int(input(\"enter n value\"))\n",
        "#print(\"the reverse of the number is\")\n",
        "t=n\n",
        "sum=0\n",
        "while(n>0):\n",
        "  r=n%10\n",
        "  sum=sum*10+r\n",
        "  n=n//10\n",
        "if(t==sum):\n",
        "  print(t,\"is palindrom\")\n",
        "else:\n",
        "  print(t,\"is not palindrom\")\n",
        "\n"
      ]
    },
    {
      "cell_type": "code",
      "source": [
        "#print(\"enter n value\")\n",
        "n=int(input(\"enter n value\"))\n",
        "res=n\n",
        "r\n",
        "rev=0\n",
        "while(n>0):\n",
        "    r=n%10\n",
        "    rev=10*rev+r\n",
        "    n=n//10\n",
        "if(res==rev):\n",
        "    print(\"palindrom\")\n",
        "else:\n",
        "    print(\"not prime number\")\n"
      ],
      "metadata": {
        "id": "TcT8ZhrX0ttN"
      },
      "execution_count": null,
      "outputs": []
    },
    {
      "cell_type": "code",
      "source": [
        "Print(\""
      ],
      "metadata": {
        "id": "3AE5osTC1BB-",
        "colab": {
          "base_uri": "https://localhost:8080/",
          "height": 141
        },
        "outputId": "83c87ebf-a982-41cf-882f-6d8a915186c8"
      },
      "execution_count": null,
      "outputs": [
        {
          "output_type": "error",
          "ename": "SyntaxError",
          "evalue": "unterminated string literal (detected at line 1) (<ipython-input-1-f13d49098e2a>, line 1)",
          "traceback": [
            "\u001b[0;36m  File \u001b[0;32m\"<ipython-input-1-f13d49098e2a>\"\u001b[0;36m, line \u001b[0;32m1\u001b[0m\n\u001b[0;31m    Print(\"\u001b[0m\n\u001b[0m          ^\u001b[0m\n\u001b[0;31mSyntaxError\u001b[0m\u001b[0;31m:\u001b[0m unterminated string literal (detected at line 1)\n"
          ]
        }
      ]
    },
    {
      "cell_type": "code",
      "source": [],
      "metadata": {
        "id": "3mDrBQaRKV82"
      },
      "execution_count": null,
      "outputs": []
    },
    {
      "cell_type": "code",
      "source": [],
      "metadata": {
        "id": "suNPSDzeKWBD"
      },
      "execution_count": null,
      "outputs": []
    },
    {
      "cell_type": "code",
      "source": [],
      "metadata": {
        "id": "4zYLqIl-KWRL"
      },
      "execution_count": null,
      "outputs": []
    },
    {
      "cell_type": "code",
      "source": [],
      "metadata": {
        "id": "MNdQvEVwKWUo"
      },
      "execution_count": null,
      "outputs": []
    },
    {
      "cell_type": "code",
      "source": [],
      "metadata": {
        "id": "aBGJQTZ-KWX8"
      },
      "execution_count": null,
      "outputs": []
    },
    {
      "cell_type": "code",
      "source": [],
      "metadata": {
        "id": "ALV4-EkuKWb5"
      },
      "execution_count": null,
      "outputs": []
    },
    {
      "cell_type": "code",
      "source": [],
      "metadata": {
        "id": "QXaKClQIKWk4"
      },
      "execution_count": null,
      "outputs": []
    },
    {
      "cell_type": "code",
      "source": [],
      "metadata": {
        "id": "0TIevumOKWxn"
      },
      "execution_count": null,
      "outputs": []
    },
    {
      "cell_type": "code",
      "source": [],
      "metadata": {
        "id": "QtooHvWkKW43"
      },
      "execution_count": null,
      "outputs": []
    },
    {
      "cell_type": "code",
      "source": [],
      "metadata": {
        "id": "XzzDp6PJKVDy"
      },
      "execution_count": null,
      "outputs": []
    },
    {
      "cell_type": "code",
      "source": [],
      "metadata": {
        "id": "rP6XpegjKVPd"
      },
      "execution_count": null,
      "outputs": []
    },
    {
      "cell_type": "code",
      "source": [
        "N=int(input(\"enter n value\"))\n",
        "C=0\n",
        "if (N%2)==0:\n",
        "  C=C+1\n",
        "if C==2:\n",
        "  print(\"it is prime\")\n",
        "else:\n",
        "  print(\"it is not\")"
      ],
      "metadata": {
        "colab": {
          "base_uri": "https://localhost:8080/"
        },
        "id": "EL2kgwQDKVS_",
        "outputId": "ef0aa68f-9515-4950-8c62-a08859f98bf2"
      },
      "execution_count": null,
      "outputs": [
        {
          "output_type": "stream",
          "name": "stdout",
          "text": [
            "enter n value5\n",
            "it is not\n"
          ]
        }
      ]
    },
    {
      "cell_type": "code",
      "source": [
        "print(\"enter n value\")\n",
        "#F=0\n",
        "n=int(input(\"\"))\n",
        "F=0\n",
        "temp=n\n",
        "while(n>0):\n",
        "  r=n%10\n",
        "  res=F*10+r\n",
        "  n=n//10\n",
        "print(res)\n",
        "if temp==res:\n",
        "  print(\"it is prime\")\n",
        "else:\n",
        "  print(\"not\")\n",
        "\n"
      ],
      "metadata": {
        "colab": {
          "base_uri": "https://localhost:8080/"
        },
        "id": "nDcPMvOWKVWY",
        "outputId": "ae03717c-761d-4608-d3e1-6cbbd7f2ff51"
      },
      "execution_count": null,
      "outputs": [
        {
          "output_type": "stream",
          "name": "stdout",
          "text": [
            "enter n value\n",
            "121\n",
            "1\n",
            "not\n"
          ]
        }
      ]
    },
    {
      "cell_type": "code",
      "source": [
        "#print(\"enter n value\")\n",
        "n=int(input(\"enter n value\"))\n",
        "res=n\n",
        "r\n",
        "rev=0\n",
        "while(n>0):\n",
        "    r=n%10\n",
        "    rev=10*rev+r\n",
        "    n=n//10\n",
        "if(res==rev):\n",
        "    print(\"palindrom\")\n",
        "else:\n",
        "    print(\"not prime number\")\n"
      ],
      "metadata": {
        "id": "DoyoJo5N2ikB"
      },
      "execution_count": null,
      "outputs": []
    }
  ],
  "metadata": {
    "colab": {
      "provenance": [],
      "mount_file_id": "1JOmI8Fjy-H03tc4AEOSh3iwZyOA2-Ae0",
      "authorship_tag": "ABX9TyNp7hEd4I73FVnCEfutDvbq",
      "include_colab_link": true
    },
    "kernelspec": {
      "display_name": "Python 3",
      "name": "python3"
    },
    "language_info": {
      "name": "python"
    }
  },
  "nbformat": 4,
  "nbformat_minor": 0
}